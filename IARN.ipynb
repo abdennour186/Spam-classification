{
 "cells": [
  {
   "attachments": {},
   "cell_type": "markdown",
   "id": "481ec7d8",
   "metadata": {},
   "source": [
    "# Importation des librairies:"
   ]
  },
  {
   "cell_type": "code",
   "execution_count": 105,
   "id": "71f1cca4",
   "metadata": {},
   "outputs": [],
   "source": [
    "import numpy as np\n",
    "import pandas as pd\n",
    "import csv\n",
    "from sklearn.model_selection import train_test_split\n",
    "from sklearn.preprocessing import StandardScaler\n",
    "from sklearn.neighbors import KNeighborsClassifier\n",
    "from sklearn.svm import SVC\n",
    "from sklearn.tree import DecisionTreeClassifier\n",
    "from sklearn.linear_model import LogisticRegression\n",
    "from keras.models import Sequential\n",
    "from keras.layers import Dense\n",
    "from sklearn.metrics import accuracy_score\n",
    "import os\n",
    "import email\n",
    "import email.policy\n",
    "from email.message import EmailMessage\n",
    "import re\n",
    "import nltk\n",
    "from nltk.stem import PorterStemmer\n"
   ]
  },
  {
   "attachments": {},
   "cell_type": "markdown",
   "id": "b501c051",
   "metadata": {},
   "source": [
    "# Lecture des fichiers (Emails)"
   ]
  },
  {
   "cell_type": "code",
   "execution_count": 106,
   "id": "de3cc408",
   "metadata": {},
   "outputs": [],
   "source": [
    "easy_ham_path = 'C:/Users/DELL/OneDrive/Bureau/AARN/AARN/easy_ham/easy_ham'\n",
    "hard_ham_path = 'C:/Users/DELL/OneDrive/Bureau/AARN/AARN/hard_ham/hard_ham'\n",
    "spam_emails_path = 'C:/Users/DELL/OneDrive/Bureau/AARN/AARN/spam_2/spam_2'"
   ]
  },
  {
   "attachments": {},
   "cell_type": "markdown",
   "id": "12a33d7a",
   "metadata": {},
   "source": [
    "# Lecture et traitement de contenu des emails \n",
    "\n",
    "get_data lit le contenu des fichiers ham et spam, traite le contenu pour extraire le corps du courrier électronique, puis stocke le corps et l'étiquette dans un dictionnaire et ajoute ce dictionnaire à une liste de données.\n",
    "La fonction renvoie la liste de données contenant le corps et l'étiquette de chaque courrier électronique dans le répertoire, 0 ham et 1 spam.\n",
    "Si le courrier électronique contient des erreurs lors de la lecture du fichier, le nom du fichier est ajouté à une liste appelée invalid_list."
   ]
  },
  {
   "cell_type": "code",
   "execution_count": 107,
   "id": "969c3a12",
   "metadata": {},
   "outputs": [],
   "source": [
    "invalid_list = []\n",
    "def get_data(path, label):\n",
    "    data = []\n",
    "    files = os.listdir(path) \n",
    "    \n",
    "    for file in files:\n",
    "        if os.path.isfile(os.path.join(path, file)):\n",
    "            try:\n",
    "                file = open(os.path.join(path, file),'r',errors='ignore')\n",
    "                content = file.read()\n",
    "                msg = email.message_from_string(content)\n",
    "                if msg.is_multipart():\n",
    "                    body = []\n",
    "                    for payload in msg.get_payload():\n",
    "                        # if payload.is_multipart(): ...\n",
    "                        body.append(payload.get_payload())\n",
    "                    body = ' '.join(body)\n",
    "\n",
    "                else:\n",
    "                    body = msg.get_payload()\n",
    "                dic = {'Email': body, 'Label': label}\n",
    "                data.append(dic)\n",
    "            except:\n",
    "                invalid_list.append(file)\n",
    "        file.close()\n",
    "    \n",
    "    return data"
   ]
  },
  {
   "cell_type": "code",
   "execution_count": 108,
   "id": "f464b21d",
   "metadata": {},
   "outputs": [],
   "source": [
    "easy_ham = get_data(easy_ham_path, 0)\n",
    "hard_ham = get_data(hard_ham_path, 0)\n",
    "# the spam emails\n",
    "spam = get_data(spam_emails_path, 1)\n"
   ]
  },
  {
   "attachments": {},
   "cell_type": "markdown",
   "id": "1edda256",
   "metadata": {},
   "source": [
    "Faire un mélange aléatoire qui permet d'éviter que l'ordre des données dans les tableaux affecte les performances des modèles d'apprentissage automatique qui seront entraînés par la suite. "
   ]
  },
  {
   "cell_type": "code",
   "execution_count": 109,
   "id": "2543c2f0",
   "metadata": {},
   "outputs": [],
   "source": [
    "np.random.shuffle(easy_ham)\n",
    "np.random.shuffle(hard_ham)\n",
    "np.random.shuffle(spam)"
   ]
  },
  {
   "attachments": {},
   "cell_type": "markdown",
   "id": "89a83dc1",
   "metadata": {},
   "source": [
    "Test d'affchage"
   ]
  },
  {
   "cell_type": "code",
   "execution_count": 110,
   "id": "c3d4664f",
   "metadata": {},
   "outputs": [
    {
     "name": "stdout",
     "output_type": "stream",
     "text": [
      "2546\n",
      "<!DOCTYPE HTML PUBLIC \"-//W3C//DTD HTML 4.0 Transitional//EN\">\n",
      "\n",
      "<html>\n",
      "<head>\n",
      "\t<title>VistaPrint.com</title>\n",
      "</head>\n",
      "\n",
      "<body><center>\n",
      "<a href=\"http://ct2.consumertoday.net/cgi-bin14/flo?y=hEY0CCzME0D40EW0AN\"><table width=\"565\" cellspacing=\"0\" cellpadding=\"0\" border=\"0\">\n",
      "<tr>\n",
      "    <td width=\"331\"><a href=\"http://ct2.consumertoday.net/cgi-bin14/flo?y=hEY0CCzME0D40EW0AN\"><img src=\"http://images.sandbox.com/images/email/vistaprint_KIT_FREE_text.gif\" width=\"331\" height=\"128\" border=\"0\" alt=\"\" title=\"VistaPrint.com\"></a></td>\n",
      "    <td rowspan=\"2\" width=\"234\"><a href=\"http://ct2.consumertoday.net/cgi-bin14/flo?y=hEY0CCzME0D40EW0AN\"><img src=\"http://images.sandbox.com/images/email/vistaprint_KIT_two_ladies.jpg\" width=\"234\" height=\"234\" border=\"0\" title=\"VistaPrint.com\" alt=\"\"></a></td>\n",
      "</tr>\n",
      "<tr>\n",
      "    <td width=\"331\"><a href=\"http://ct2.consumertoday.net/cgi-bin14/flo?y=hEY0CCzME0D40EW0AN\"><img src=\"http://images.sandbox.com/images/email/vistaprint_KIT_stay_close.gif\" width=\"331\" height=\"106\" border=\"0\" title=\"VistaPrint.com\" alt=\"\"></a></td>\n",
      "</tr>\n",
      "<tr>\n",
      "    <td width=\"331\"><a href=\"http://ct2.consumertoday.net/cgi-bin14/flo?y=hEY0CCzME0D40EW0AN\"><img src=\"http://images.sandbox.com/images/email/vistaprint_KIT_bullets.gif\" width=\"331\" height=\"92\" border=\"0\" title=\"VistaPrint.com\" alt=\"\"></a></td>\n",
      "    <td width=\"234\"><a href=\"http://ct2.consumertoday.net/cgi-bin14/flo?y=hEY0CCzME0D40EW0AN\"><img src=\"http://images.sandbox.com/images/email/vistaprint_KIT_logo.gif\" width=\"234\" height=\"92\" border=\"0\" title=\"VistaPrint.com\" alt=\"\"></a></td>\n",
      "</tr>\n",
      "<tr>\n",
      "    <td width=\"331\"><a href=\"http://ct2.consumertoday.net/cgi-bin14/flo?y=hEY0CCzME0D40EW0AN\"><img src=\"http://images.sandbox.com/images/email/vistaprint_KIT_Animated_BC.gif\" width=\"331\" height=\"124\" border=\"0\" title=\"VistaPrint.com\" alt=\"\"></a></td>\n",
      "    <td width=\"234\"><a href=\"http://ct2.consumertoday.net/cgi-bin14/flo?y=hEY0CCzME0D40EW0AN\"><img src=\"http://images.sandbox.com/images/email/vistaprint_KIT_button.gif\" width=\"234\" height=\"124\" border=\"0\" title=\"VistaPrint.com\" alt=\"\"></a></td>\n",
      "</tr>\n",
      "</table></a>\n",
      "\n",
      "</center>\n",
      "\n",
      "</body>\n",
      "<BR><BR><CENTER><table border=\"1\" cellpadding=\"3\" cellspacing=\"0\" width=\"550\" bordercolor=\"#000000\" body bgcolor=\"white\">\n",
      "<tr><td width=\"551\" height=\"5\" align=\"center\" valign=\"middle\"><table width=\"550\" border=\"0\" cellspacing=\"0\" cellpadding=\"0\"><tr><td><FONT FACE=\"Verdana, Modern, Arial\" SIZE=\"2\" color=\"gray\">We take your privacy very seriously and it is our policy never to send unwanted email messages. This message has been sent to gibbs@midrange.com because you are a member of Consumer Today or you signed up with one of our marketing partners. To unsubscribe, simply click <a href=\"http://unsub.ct.consumertoday.net/consumer_today/ct_site_unsub.html\"><font color=\"blue\"><u>here</u></font></a> (please allow 3-5 business days for your unsubscribe request to be processed). Questions or comments - send them to <a href=\"mailto:customerservice@consumertoday.net\"><font color=\"blue\"><u>customerservice@consumertoday.net</u></font></a>.</td></tr></table></td></tr></table></font></center></body>\n",
      "\n",
      "<IMG SRC=\"http://ct2.consumertoday.net/cgi-bin14/flosensing?y=EY0CCzME0D40By\"></html>\n",
      "\n",
      "\n",
      "dict_keys(['Email', 'Label'])\n",
      "<class 'dict'>\n"
     ]
    }
   ],
   "source": [
    "print(len(easy_ham))\n",
    "print(spam[9][\"Email\"])\n",
    "print(spam[8].keys())\n",
    "print(type(hard_ham[9]))"
   ]
  },
  {
   "attachments": {},
   "cell_type": "markdown",
   "id": "be1dd257",
   "metadata": {},
   "source": [
    "On crée trois DataFrames en utilisant les listes easy_ham, hard_ham et spam. Chaque liste contient des dictionnaires représentant des emails, avec les clés 'Email' pour le contenu de l'email et 'Label' pour le type de l'email (ham ou spam)"
   ]
  },
  {
   "cell_type": "code",
   "execution_count": 111,
   "id": "f482845f",
   "metadata": {},
   "outputs": [
    {
     "data": {
      "text/html": [
       "<div>\n",
       "<style scoped>\n",
       "    .dataframe tbody tr th:only-of-type {\n",
       "        vertical-align: middle;\n",
       "    }\n",
       "\n",
       "    .dataframe tbody tr th {\n",
       "        vertical-align: top;\n",
       "    }\n",
       "\n",
       "    .dataframe thead th {\n",
       "        text-align: right;\n",
       "    }\n",
       "</style>\n",
       "<table border=\"1\" class=\"dataframe\">\n",
       "  <thead>\n",
       "    <tr style=\"text-align: right;\">\n",
       "      <th></th>\n",
       "      <th>Email</th>\n",
       "      <th>Label</th>\n",
       "    </tr>\n",
       "  </thead>\n",
       "  <tbody>\n",
       "    <tr>\n",
       "      <th>0</th>\n",
       "      <td>Hallo Xxxxxxxxx Yyyyyyy,\\n\\nHEUTE, 03. Juli, i...</td>\n",
       "      <td>0</td>\n",
       "    </tr>\n",
       "    <tr>\n",
       "      <th>1</th>\n",
       "      <td>&lt;html&gt;\\n&lt;head&gt;\\n&lt;title&gt;CNET Investor Dispatch&lt;...</td>\n",
       "      <td>0</td>\n",
       "    </tr>\n",
       "    <tr>\n",
       "      <th>2</th>\n",
       "      <td>&lt;html&gt;\\n&lt;head&gt;\\n&lt;title&gt;Tech Update Today&lt;/titl...</td>\n",
       "      <td>0</td>\n",
       "    </tr>\n",
       "    <tr>\n",
       "      <th>3</th>\n",
       "      <td>&lt;!DOCTYPE HTML PUBLIC \"-//W3C//DTD HTML 4.0 Tr...</td>\n",
       "      <td>0</td>\n",
       "    </tr>\n",
       "    <tr>\n",
       "      <th>4</th>\n",
       "      <td>&lt;html&gt;\\n&lt;head&gt;\\n        &lt;title&gt;THE WEEK IN REV...</td>\n",
       "      <td>0</td>\n",
       "    </tr>\n",
       "    <tr>\n",
       "      <th>...</th>\n",
       "      <td>...</td>\n",
       "      <td>...</td>\n",
       "    </tr>\n",
       "    <tr>\n",
       "      <th>244</th>\n",
       "      <td>-----BEGIN PGP SIGNED MESSAGE-----\\nHash: SHA1...</td>\n",
       "      <td>0</td>\n",
       "    </tr>\n",
       "    <tr>\n",
       "      <th>245</th>\n",
       "      <td>firewalls Digest\\tThu, 25 Jul 2002\\tVolume: 01...</td>\n",
       "      <td>0</td>\n",
       "    </tr>\n",
       "    <tr>\n",
       "      <th>246</th>\n",
       "      <td>\\n&lt;html&gt;\\n&lt;head&gt;\\n\\t&lt;title&gt;CNET Shopper Newsle...</td>\n",
       "      <td>0</td>\n",
       "    </tr>\n",
       "    <tr>\n",
       "      <th>247</th>\n",
       "      <td>E-mail error\\n\\nYou're subscribed to the HTML ...</td>\n",
       "      <td>0</td>\n",
       "    </tr>\n",
       "    <tr>\n",
       "      <th>248</th>\n",
       "      <td>To view this newsletter in full-color, visit:\\...</td>\n",
       "      <td>0</td>\n",
       "    </tr>\n",
       "  </tbody>\n",
       "</table>\n",
       "<p>249 rows × 2 columns</p>\n",
       "</div>"
      ],
      "text/plain": [
       "                                                 Email  Label\n",
       "0    Hallo Xxxxxxxxx Yyyyyyy,\\n\\nHEUTE, 03. Juli, i...      0\n",
       "1    <html>\\n<head>\\n<title>CNET Investor Dispatch<...      0\n",
       "2    <html>\\n<head>\\n<title>Tech Update Today</titl...      0\n",
       "3    <!DOCTYPE HTML PUBLIC \"-//W3C//DTD HTML 4.0 Tr...      0\n",
       "4    <html>\\n<head>\\n        <title>THE WEEK IN REV...      0\n",
       "..                                                 ...    ...\n",
       "244  -----BEGIN PGP SIGNED MESSAGE-----\\nHash: SHA1...      0\n",
       "245  firewalls Digest\\tThu, 25 Jul 2002\\tVolume: 01...      0\n",
       "246  \\n<html>\\n<head>\\n\\t<title>CNET Shopper Newsle...      0\n",
       "247  E-mail error\\n\\nYou're subscribed to the HTML ...      0\n",
       "248  To view this newsletter in full-color, visit:\\...      0\n",
       "\n",
       "[249 rows x 2 columns]"
      ]
     },
     "execution_count": 111,
     "metadata": {},
     "output_type": "execute_result"
    }
   ],
   "source": [
    "easy_ham_df = pd.DataFrame(easy_ham)\n",
    "hard_ham_df = pd.DataFrame(hard_ham)\n",
    "spam_df = pd.DataFrame(spam)\n",
    "hard_ham_df"
   ]
  },
  {
   "attachments": {},
   "cell_type": "markdown",
   "id": "7a4b78f9",
   "metadata": {},
   "source": [
    "# Normalisation (nettoyage des donnees)"
   ]
  },
  {
   "cell_type": "code",
   "execution_count": 112,
   "id": "17144c0c",
   "metadata": {},
   "outputs": [],
   "source": [
    "non_word = r'[^a-zA-Z\\s]'\n",
    "html = re.compile('<[^<>]*>') \n",
    "number = r'\\b\\d+\\b(?![A-Za-z])'\n",
    "dollar = re.compile('(?<!\\w)[$]+(?!\\w)')\n",
    "Email = re.compile('[A-Za-z0-9._%+-]+@[A-Za-z0-9.-]+\\.[A-Z|a-z]{2,7}') \n",
    "URL = re.compile('(https?:\\/\\/(?:www\\.|(?!www))[a-zA-Z0-9][a-zA-Z0-9-]+[a-zA-Z0-9]\\.[^\\s]{2,}|www\\.[a-zA-Z0-9][a-zA-Z0-9-]+[a-zA-Z0-9]\\.[^\\s]{2,}|https?:\\/\\/(?:www\\.|(?!www))[a-zA-Z0-9]+\\.[^\\s]{2,}|www\\.[a-zA-Z0-9]+\\.[^\\s]{2,})')"
   ]
  },
  {
   "cell_type": "code",
   "execution_count": 113,
   "id": "297c12dd",
   "metadata": {},
   "outputs": [],
   "source": [
    "def nettoyage(sentence):\n",
    "    cleantext = sentence.lower()\n",
    "    cleantext = re.sub(html, '', cleantext)\n",
    "    cleantext = re.sub(URL, 'httpaddr', cleantext)\n",
    "    cleantext = re.sub(Email, 'emailaddr', cleantext)\n",
    "    cleantext = re.sub(number, 'nombre', cleantext)\n",
    "    cleantext = re.sub(dollar, 'dollar', cleantext)\n",
    "    cleantext = re.sub(non_word, '', cleantext)\n",
    "    stemmer = PorterStemmer()\n",
    "    words = nltk.word_tokenize(cleantext)\n",
    "    # Perform stemming on each word\n",
    "    stemmed_words = [stemmer.stem(word) for word in words]\n",
    "    return(stemmed_words)"
   ]
  },
  {
   "attachments": {},
   "cell_type": "markdown",
   "id": "4a1cabfb",
   "metadata": {},
   "source": [
    "Un test de la fonction nettoyage avant de passer a la normalisation des emails"
   ]
  },
  {
   "cell_type": "code",
   "execution_count": 114,
   "id": "f7406f3b",
   "metadata": {},
   "outputs": [
    {
     "name": "stdout",
     "output_type": "stream",
     "text": [
      "['the', 'quick', 'brown', 'fox', 'jump', 'over', 'the', 'lazi', 'dog', 'nombr', 'ty', 'spammer', 't', 'httpaddr', 'emailaddr', 'dollar', 'tr']\n",
      "['vistaprintcom', 'we', 'take', 'your', 'privaci', 'veri', 'serious', 'and', 'it', 'is', 'our', 'polici', 'never', 'to', 'send', 'unwant', 'email', 'messag', 'thi', 'messag', 'ha', 'been', 'sent', 'to', 'emailaddr', 'becaus', 'you', 'are', 'a', 'member', 'of', 'consum', 'today', 'or', 'you', 'sign', 'up', 'with', 'one', 'of', 'our', 'market', 'partner', 'to', 'unsubscrib', 'simpli', 'click', 'here', 'pleas', 'allow', 'nombrenombr', 'busi', 'day', 'for', 'your', 'unsubscrib', 'request', 'to', 'be', 'process', 'question', 'or', 'comment', 'send', 'them', 'to', 'emailaddr']\n"
     ]
    }
   ],
   "source": [
    "text = \"\"\"The quick brown foxes jumped over the lazy dog. 2133 ty34 spammer343423423 34665t www.dsfdsf.com \n",
    "abdennour@gmail.com $ tr$\"\"\"\n",
    "print(nettoyage(text))\n",
    "print(nettoyage(spam[9]['Email']))\n"
   ]
  },
  {
   "attachments": {},
   "cell_type": "markdown",
   "id": "057231c8",
   "metadata": {},
   "source": [
    "On passe ou traitement des emails pour cela on concatène les trois DataFrames easy_ham_df, hard_ham_df, et spam_df en une seule DataFrame concat. \n",
    "Ensuite, on mélange les lignes de cette DataFrame (toutes les lignes doivent être mélangées). \n",
    "Le résultat est stocké dans la variable shuffled_concat donc elle va contenir tous les emails avec leur etiquette"
   ]
  },
  {
   "cell_type": "code",
   "execution_count": 115,
   "id": "3b9c900f",
   "metadata": {},
   "outputs": [
    {
     "data": {
      "text/html": [
       "<div>\n",
       "<style scoped>\n",
       "    .dataframe tbody tr th:only-of-type {\n",
       "        vertical-align: middle;\n",
       "    }\n",
       "\n",
       "    .dataframe tbody tr th {\n",
       "        vertical-align: top;\n",
       "    }\n",
       "\n",
       "    .dataframe thead th {\n",
       "        text-align: right;\n",
       "    }\n",
       "</style>\n",
       "<table border=\"1\" class=\"dataframe\">\n",
       "  <thead>\n",
       "    <tr style=\"text-align: right;\">\n",
       "      <th></th>\n",
       "      <th>Email</th>\n",
       "      <th>Label</th>\n",
       "    </tr>\n",
       "  </thead>\n",
       "  <tbody>\n",
       "    <tr>\n",
       "      <th>0</th>\n",
       "      <td>Once upon a time, Ville wrote :\\n\\n&gt; &gt; BTW, I ...</td>\n",
       "      <td>0</td>\n",
       "    </tr>\n",
       "    <tr>\n",
       "      <th>1</th>\n",
       "      <td>URL: http://scriptingnews.userland.com/backiss...</td>\n",
       "      <td>0</td>\n",
       "    </tr>\n",
       "    <tr>\n",
       "      <th>2</th>\n",
       "      <td>No analysis yet... don't know what to make of ...</td>\n",
       "      <td>0</td>\n",
       "    </tr>\n",
       "    <tr>\n",
       "      <th>3</th>\n",
       "      <td>&gt; From:  Hal DeVore &lt;haldevore@acm.org&gt;\\n&gt; Dat...</td>\n",
       "      <td>0</td>\n",
       "    </tr>\n",
       "    <tr>\n",
       "      <th>4</th>\n",
       "      <td>Learn from the BEST...for FREE! \\n\\nLearn to l...</td>\n",
       "      <td>1</td>\n",
       "    </tr>\n",
       "    <tr>\n",
       "      <th>5</th>\n",
       "      <td>Why am I so passionate about decentralization?...</td>\n",
       "      <td>0</td>\n",
       "    </tr>\n",
       "    <tr>\n",
       "      <th>6</th>\n",
       "      <td>Hello,\\n\\nHas anyone made a working source RPM...</td>\n",
       "      <td>0</td>\n",
       "    </tr>\n",
       "    <tr>\n",
       "      <th>7</th>\n",
       "      <td>\\n\\nMore Than $2500 in DEBT?\\n\\nWe Can Help Yo...</td>\n",
       "      <td>1</td>\n",
       "    </tr>\n",
       "    <tr>\n",
       "      <th>8</th>\n",
       "      <td>&lt;HTML&gt;&lt;HEAD&gt;&lt;TITLE&gt;New Web Technology&lt;/TITLE&gt;\\...</td>\n",
       "      <td>1</td>\n",
       "    </tr>\n",
       "    <tr>\n",
       "      <th>9</th>\n",
       "      <td>In 1957, a monastery in Thailand was being rel...</td>\n",
       "      <td>1</td>\n",
       "    </tr>\n",
       "  </tbody>\n",
       "</table>\n",
       "</div>"
      ],
      "text/plain": [
       "                                               Email  Label\n",
       "0  Once upon a time, Ville wrote :\\n\\n> > BTW, I ...      0\n",
       "1  URL: http://scriptingnews.userland.com/backiss...      0\n",
       "2  No analysis yet... don't know what to make of ...      0\n",
       "3  > From:  Hal DeVore <haldevore@acm.org>\\n> Dat...      0\n",
       "4  Learn from the BEST...for FREE! \\n\\nLearn to l...      1\n",
       "5  Why am I so passionate about decentralization?...      0\n",
       "6  Hello,\\n\\nHas anyone made a working source RPM...      0\n",
       "7  \\n\\nMore Than $2500 in DEBT?\\n\\nWe Can Help Yo...      1\n",
       "8  <HTML><HEAD><TITLE>New Web Technology</TITLE>\\...      1\n",
       "9  In 1957, a monastery in Thailand was being rel...      1"
      ]
     },
     "execution_count": 115,
     "metadata": {},
     "output_type": "execute_result"
    }
   ],
   "source": [
    "concat = pd.concat([easy_ham_df, hard_ham_df,spam_df], ignore_index=True, sort=False)\n",
    "shuffled_concat = concat.sample(frac = 1)\n",
    "shuffled_concat.reset_index(drop=True, inplace=True)\n",
    "shuffled_concat.head(10)"
   ]
  },
  {
   "attachments": {},
   "cell_type": "markdown",
   "id": "2365773b",
   "metadata": {},
   "source": [
    "Maintenant que nous avons la liste des emails nous établissons la normalisation en appelant la fonction de nettoyage"
   ]
  },
  {
   "cell_type": "code",
   "execution_count": 116,
   "id": "6fd73294",
   "metadata": {},
   "outputs": [],
   "source": [
    "shuffled_concat['Email'] = shuffled_concat['Email'].apply(lambda x: nettoyage(x))"
   ]
  },
  {
   "attachments": {},
   "cell_type": "markdown",
   "id": "377d79e4",
   "metadata": {},
   "source": [
    "Affichage d'un exemple"
   ]
  },
  {
   "cell_type": "code",
   "execution_count": 117,
   "id": "ce23e4e2",
   "metadata": {},
   "outputs": [
    {
     "data": {
      "text/html": [
       "<div>\n",
       "<style scoped>\n",
       "    .dataframe tbody tr th:only-of-type {\n",
       "        vertical-align: middle;\n",
       "    }\n",
       "\n",
       "    .dataframe tbody tr th {\n",
       "        vertical-align: top;\n",
       "    }\n",
       "\n",
       "    .dataframe thead th {\n",
       "        text-align: right;\n",
       "    }\n",
       "</style>\n",
       "<table border=\"1\" class=\"dataframe\">\n",
       "  <thead>\n",
       "    <tr style=\"text-align: right;\">\n",
       "      <th></th>\n",
       "      <th>Email</th>\n",
       "      <th>Label</th>\n",
       "    </tr>\n",
       "  </thead>\n",
       "  <tbody>\n",
       "    <tr>\n",
       "      <th>0</th>\n",
       "      <td>[onc, upon, a, time, vill, wrote, btw, i, thin...</td>\n",
       "      <td>0</td>\n",
       "    </tr>\n",
       "    <tr>\n",
       "      <th>1</th>\n",
       "      <td>[url, httpaddr, date, wed, nombr, sep, nombr, ...</td>\n",
       "      <td>0</td>\n",
       "    </tr>\n",
       "    <tr>\n",
       "      <th>2</th>\n",
       "      <td>[no, analysi, yet, dont, know, what, to, make,...</td>\n",
       "      <td>0</td>\n",
       "    </tr>\n",
       "    <tr>\n",
       "      <th>3</th>\n",
       "      <td>[from, hal, devor, date, tue, nombr, oct, nomb...</td>\n",
       "      <td>0</td>\n",
       "    </tr>\n",
       "    <tr>\n",
       "      <th>4</th>\n",
       "      <td>[learn, from, the, bestfor, free, learn, to, l...</td>\n",
       "      <td>1</td>\n",
       "    </tr>\n",
       "  </tbody>\n",
       "</table>\n",
       "</div>"
      ],
      "text/plain": [
       "                                               Email  Label\n",
       "0  [onc, upon, a, time, vill, wrote, btw, i, thin...      0\n",
       "1  [url, httpaddr, date, wed, nombr, sep, nombr, ...      0\n",
       "2  [no, analysi, yet, dont, know, what, to, make,...      0\n",
       "3  [from, hal, devor, date, tue, nombr, oct, nomb...      0\n",
       "4  [learn, from, the, bestfor, free, learn, to, l...      1"
      ]
     },
     "execution_count": 117,
     "metadata": {},
     "output_type": "execute_result"
    }
   ],
   "source": [
    "shuffled_concat.head(5)"
   ]
  },
  {
   "attachments": {},
   "cell_type": "markdown",
   "id": "d5cb35c9",
   "metadata": {},
   "source": [
    "# Construction du Vocabulaire"
   ]
  },
  {
   "attachments": {},
   "cell_type": "markdown",
   "id": "72e3fa83",
   "metadata": {},
   "source": [
    "On définit une fonction qui prend en entrée un dataframe df et un entier k, et crée un fichier de vocabulaire vocab.txt contenant tous les mots qui apparaissent au moins k fois dans la colonne Email de df.\n",
    "\n",
    "La fonction parcourt chaque email et ajoute les mots à une liste all_words, ensuite elle crée un dictionnaire word_counts qui compte le nombre d'occurrences de chaque mot dans all_words.\n",
    "\n",
    "La liste k_words est créée en filtrant le dictionnaire word_counts pour inclure uniquement les mots qui apparaissent au moins k fois. \n",
    "Enfin, la liste k_words est écrite dans un fichier vocab.txt situé dans le dossier du projet"
   ]
  },
  {
   "cell_type": "code",
   "execution_count": 118,
   "id": "90c65f13",
   "metadata": {},
   "outputs": [],
   "source": [
    "def create_vocab(df, k):\n",
    "    all_words = []\n",
    "\n",
    "# Loop through each row of the dataframe and append the words in the \"Email\" column to the all_words list\n",
    "    for email_words in df['Email']:\n",
    "        all_words.extend(email_words)\n",
    "\n",
    "# Create a dictionary to count the number of times each word appears in the all_words list\n",
    "    word_counts = {}\n",
    "    for word in all_words:\n",
    "        if word not in word_counts:\n",
    "            word_counts[word] = 1\n",
    "        else:\n",
    "            word_counts[word] += 1\n",
    "\n",
    "# Create a list of all the words that appear k times\n",
    "    k_words = [word for word, count in word_counts.items() if count >= k]\n",
    "\n",
    "# Write the k_words list to the vocab file\n",
    "    with open(os.path.join('C:/Users/DELL/OneDrive/Bureau/AARN/AARN', 'vocab.txt'), 'w') as f:\n",
    "        f.write('\\n'.join(k_words))"
   ]
  },
  {
   "attachments": {},
   "cell_type": "markdown",
   "id": "43c39dde",
   "metadata": {},
   "source": [
    "Appel à la fonction avec la liste des emails et avec k = 5"
   ]
  },
  {
   "cell_type": "code",
   "execution_count": 119,
   "id": "9733b6c2",
   "metadata": {},
   "outputs": [],
   "source": [
    "create_vocab(shuffled_concat, 5)"
   ]
  },
  {
   "attachments": {},
   "cell_type": "markdown",
   "id": "2b7f3374",
   "metadata": {},
   "source": [
    "Étant donné que la bibliothèque numpy est rapide dans la manipulation des tableaux, nous allons donc convertir notre ensemble de données en un tableau numpy"
   ]
  },
  {
   "cell_type": "code",
   "execution_count": 120,
   "id": "664cd455",
   "metadata": {},
   "outputs": [
    {
     "name": "stdout",
     "output_type": "stream",
     "text": [
      "[list(['onc', 'upon', 'a', 'time', 'vill', 'wrote', 'btw', 'i', 'think', 'ill', 'kake', 'it', 'so', 'that', 'my', 'ogl', 'packag', 'automat', 'insert', 'thi', 'option', 'idecd', 'dmanombr', 'to', 'etcmodulesconf', 'it', 'current', 'creat', 'thedevdvd', 'link', 'to', 'devcdrom', 'which', 'will', 'work', 'most', 'of', 'the', 'time', 'if', 'there', 'onli', 'one', 'drive', 'if', 'no', 'devdvd', 'exist', 'eek', 'mayb', 'it', 'just', 'me', 'but', 'i', 'dont', 'think', 'that', 'a', 'good', 'idea', 'output', 'a', 'messag', 'in', 'post', 'and', 'provid', 'a', 'readm', 'of', 'some', 'kind', 'would', 'be', 'better', 'as', 'well', 'as', 'perhap', 'ad', 'a', 'note', 'in', 'descript', 'whi', 'eek', 'if', 'no', 'devdvd', 'exist', 'itll', 'creat', 'it', 'if', 'devdvd', 'exist', 'it', 'wont', 'touch', 'it', 'if', 'someon', 'instal', 'ogl', 'a', 'dvd', 'player', 'im', 'assum', 'the', 'hardwar', 'is', 'recent', 'enough', 'for', 'softwar', 'playback', 'and', 'that', 'the', 'drive', 'is', 'a', 'dvdrom', 'all', 'of', 'them', 'support', 'dma', 'but', 'sinc', 'that', 'chang', 'requir', 'a', 'reboot', 'or', 'a', 'manual', 'chang', 'im', 'still', 'hesit', 'to', 'integr', 'it', 'my', 'goal', 'is', 'to', 'allow', 'user', 'to', 'instal', 'a', 'dvd', 'player', 'through', 'synapt', 'and', 'play', 'dvd', 'in', 'no', 'time', 'output', 'a', 'messag', 'in', 'the', 'post', 'section', 'of', 'a', 'packag', 'is', 'alway', 'a', 'bad', 'idea', 'put', 'the', 'tip', 'in', 'the', 'descript', 'sound', 'good', 'though', 'matthia', 'clean', 'custom', 'red', 'hat', 'linux', 'rpm', 'packag', 'httpaddr', 'red', 'hat', 'linux', 'releas', 'nombrenombr', 'valhalla', 'run', 'linux', 'kernel', 'nombrenombrenombreacpi', 'load', 'nombrenombr', 'nombrenombr', 'nombrenombr', 'rpmlist', 'mail', 'list', 'httpaddr'])\n",
      " list(['url', 'httpaddr', 'date', 'wed', 'nombr', 'sep', 'nombr', 'nombrenombrenombr', 'gmt', 'note', 'to', 'self', 'read', 'the', 'pingback', 'specnombr', 'form', 'opinion', 'nombr', 'httpaddr'])\n",
      " list(['no', 'analysi', 'yet', 'dont', 'know', 'what', 'to', 'make', 'of', 'it', 'yet', 'but', 'here', 'the', 'raw', 'bit', 'for', 'all', 'to', 'perus', 'and', 'check', 'out', 'what', 'realli', 'go', 'on', 'best', 'rohit', 'datapow', 'deliv', 'xml', 'acceler', 'devic', 'by', 'scott', 'tyler', 'shafer', 'august', 'nombr', 'nombr', 'nombrenombr', 'am', 'pt', 'datapow', 'technolog', 'on', 'monday', 'unveil', 'it', 'network', 'devic', 'design', 'specif', 'to', 'process', 'xml', 'data', 'unlik', 'compet', 'solut', 'that', 'process', 'xml', 'data', 'in', 'softwar', 'datapow', 'devic', 'process', 'the', 'data', 'in', 'hardwar', 'a', 'technolog', 'achiev', 'that', 'provid', 'greater', 'perform', 'accord', 'to', 'compani', 'offici', 'the', 'new', 'devic', 'dub', 'datapow', 'xa', 'xml', 'acceler', 'is', 'the', 'first', 'in', 'a', 'famili', 'of', 'product', 'expect', 'from', 'the', 'cambridg', 'massbas', 'startup', 'the', 'datapow', 'famili', 'is', 'base', 'on', 'a', 'proprietari', 'process', 'core', 'technolog', 'call', 'xg', 'that', 'doe', 'the', 'analysi', 'pars', 'and', 'process', 'of', 'the', 'xml', 'data', 'accord', 'to', 'steve', 'kelli', 'ceo', 'of', 'datapow', 'the', 'xa', 'acceler', 'wa', 'conceiv', 'to', 'meet', 'the', 'steadi', 'adopt', 'of', 'xml', 'the', 'anticip', 'futur', 'prolifer', 'of', 'web', 'servic', 'and', 'as', 'a', 'mean', 'to', 'share', 'data', 'between', 'two', 'busi', 'our', 'vision', 'is', 'to', 'build', 'out', 'an', 'xmlawar', 'infrastructur', 'kelli', 'said', 'the', 'xa', 'is', 'the', 'first', 'of', 'a', 'famili', 'kelli', 'explain', 'that', 'convert', 'data', 'into', 'xml', 'increas', 'the', 'file', 'size', 'up', 'to', 'nombr', 'time', 'thi', 'he', 'said', 'make', 'process', 'the', 'data', 'veri', 'tax', 'on', 'applic', 'server', 'datapow', 'believ', 'an', 'inlin', 'devic', 'is', 'the', 'best', 'altern', 'in', 'addit', 'to', 'the', 'larg', 'file', 'size', 'secur', 'is', 'also', 'of', 'paramount', 'import', 'in', 'the', 'world', 'of', 'xml', 'today', 'firewal', 'are', 'design', 'to', 'inspect', 'http', 'traffic', 'onli', 'kelli', 'said', 'a', 'soap', 'packet', 'with', 'xml', 'will', 'go', 'straight', 'through', 'a', 'firewal', 'firewal', 'are', 'blind', 'to', 'xml', 'today', 'futur', 'product', 'in', 'datapow', 'famili', 'will', 'focu', 'more', 'specif', 'on', 'secur', 'especi', 'as', 'web', 'servic', 'prolifer', 'kelli', 'said', 'accord', 'to', 'datapow', 'most', 'exist', 'solut', 'to', 'offload', 'xml', 'process', 'are', 'homegrown', 'and', 'done', 'in', 'softwar', 'an', 'approach', 'the', 'compani', 'itself', 'tri', 'initi', 'and', 'found', 'to', 'be', 'inadequ', 'with', 'regard', 'to', 'speed', 'and', 'secur', 'after', 'tri', 'the', 'softwar', 'path', 'the', 'compani', 'turn', 'to', 'creat', 'a', 'solut', 'that', 'would', 'process', 'xml', 'in', 'hardwar', 'our', 'xg', 'execut', 'core', 'convert', 'xml', 'to', 'machin', 'code', 'said', 'kelli', 'ad', 'that', 'to', 'hi', 'knowledg', 'no', 'other', 'compani', 'solut', 'doe', 'kelli', 'said', 'in', 'the', 'next', 'few', 'month', 'he', 'expect', 'the', 'market', 'to', 'be', 'flood', 'with', 'technolog', 'that', 'claim', 'to', 'do', 'xml', 'process', 'claim', 'that', 'he', 'believ', 'will', 'be', 'mostli', 'fals', 'other', 'contentawar', 'switch', 'such', 'as', 'ssl', 'secur', 'socket', 'layer', 'acceler', 'and', 'load', 'balanc', 'look', 'at', 'the', 'first', 'nombr', 'byte', 'of', 'a', 'packet', 'while', 'the', 'xa', 'provid', 'deeper', 'packet', 'inspect', 'look', 'at', 'nombrenombr', 'byte', 'and', 'thu', 'enabl', 'greater', 'process', 'of', 'xml', 'data', 'kelli', 'explain', 'the', 'uhigh', 'network', 'devic', 'ha', 'been', 'test', 'against', 'a', 'larg', 'collect', 'of', 'xml', 'and', 'xsl', 'data', 'type', 'and', 'can', 'learn', 'new', 'flavor', 'of', 'the', 'markup', 'languag', 'as', 'they', 'pass', 'through', 'the', 'devic', 'the', 'xa', 'can', 'be', 'deploy', 'in', 'proxi', 'mode', 'behind', 'a', 'firewal', 'and', 'a', 'load', 'balanc', 'and', 'it', 'will', 'inspect', 'all', 'traffic', 'that', 'pass', 'and', 'will', 'identifi', 'and', 'process', 'those', 'packet', 'that', 'are', 'xml', 'kelli', 'said', 'in', 'addit', 'to', 'proxi', 'mode', 'the', 'devic', 'can', 'also', 'be', 'use', 'as', 'an', 'applic', 'coprocessor', 'thi', 'deploy', 'method', 'give', 'administr', 'more', 'granular', 'control', 'over', 'what', 'data', 'is', 'inspect', 'and', 'the', 'applic', 'server', 'itself', 'control', 'the', 'devic', 'datapow', 'is', 'not', 'the', 'onli', 'compani', 'chase', 'thi', 'emerg', 'market', 'startup', 'sarvega', 'base', 'in', 'burr', 'ridg', 'ill', 'introduc', 'the', 'sarvega', 'xpe', 'switch', 'in', 'may', 'and', 'earlier', 'thi', 'month', 'tarari', 'an', 'intel', 'spinoff', 'launch', 'with', 'a', 'focu', 'on', 'content', 'process', 'and', 'acceler', 'the', 'datapow', 'devic', 'is', 'now', 'avail', 'price', 'start', 'at', 'nombrenombr', 'the', 'compani', 'ha', 'announc', 'one', 'custom', 'to', 'date', 'and', 'say', 'the', 'product', 'is', 'in', 'field', 'trail', 'at', 'a', 'number', 'of', 'other', 'enterpris', 'datapow', 'ha', 'been', 'address', 'enterpris', 'network', 'need', 'sinc', 'it', 'wa', 'found', 'in', 'earli', 'nombr', 'by', 'eugen', 'kuznetsov', 'a', 'technolog', 'visionari', 'who', 'foresaw', 'the', 'advers', 'effect', 'xml', 'and', 'other', 'next', 'gener', 'protocol', 'would', 'have', 'on', 'enterpris', 'network', 'long', 'befor', 'industri', 'interest', 'in', 'xml', 'grew', 'kuznetsov', 'assembl', 'a', 'team', 'of', 'worldclass', 'mit', 'engin', 'and', 'design', 'the', 'industri', 'first', 'solut', 'to', 'address', 'the', 'uniqu', 'requir', 'for', 'process', 'xml', 'the', 'first', 'such', 'solut', 'wa', 'a', 'softwar', 'interpret', 'call', 'dgxt', 'thi', 'softwarebas', 'approach', 'to', 'xml', 'process', 'is', 'still', 'licens', 'by', 'mani', 'compani', 'for', 'use', 'in', 'their', 'own', 'product', 'today', 'leverag', 'the', 'detail', 'knowledg', 'and', 'custom', 'experi', 'gain', 'from', 'develop', 'softwarebas', 'acceler', 'kuznetsov', 'team', 'rais', 'the', 'bar', 'and', 'design', 'a', 'system', 'for', 'process', 'xml', 'in', 'purposebuilt', 'hardwar', 'in', 'nombr', 'datapow', 'effort', 'produc', 'xml', 'gener', 'three', 'xg', 'the', 'industri', 'fastest', 'technolog', 'for', 'xml', 'process', 'bar', 'none', 'today', 'xg', 'technolog', 'power', 'the', 'industri', 'first', 'wirespe', 'xml', 'network', 'devic', 'enabl', 'secur', 'highspe', 'applic', 'and', 'xml', 'web', 'servic', 'while', 'other', 'compani', 'are', 'just', 'now', 'market', 'first', 'version', 'of', 'product', 'datapow', 'is', 'deliv', 'it', 'third', 'gener', 'of', 'technolog', 'provid', 'an', 'immedi', 'return', 'on', 'technolog', 'invest', 'to', 'industrylead', 'custom', 'and', 'partner', 'datapow', 'mit', 'heritag', 'is', 'complement', 'by', 'a', 'manag', 'team', 'that', 'bring', 'decad', 'of', 'experi', 'in', 'the', 'network', 'and', 'comput', 'industri', 'draw', 'veteran', 'leader', 'from', 'sever', 'success', 'compani', 'includ', 'akamai', 'argon', 'cascad', 'castl', 'network', 'sycamor', 'and', 'wellfleet', 'datapow', 'technolog', 'secur', 'nombrenombr', 'million', 'in', 'fund', 'venrock', 'associ', 'mobiu', 'ventur', 'capit', 'and', 'seed', 'capit', 'back', 'pioneer', 'in', 'xmlawar', 'network', 'for', 'web', 'servic', 'cambridg', 'mass', 'juli', 'nombr', 'nombr', 'datapow', 'technolog', 'inc', 'the', 'lead', 'provid', 'of', 'xmlawar', 'network', 'infrastructur', 'today', 'announc', 'that', 'it', 'ha', 'secur', 'nombrenombr', 'million', 'in', 'seri', 'b', 'financ', 'investor', 'for', 'thi', 'round', 'includ', 'venrock', 'associ', 'mobiu', 'ventur', 'capit', 'and', 'seed', 'capit', 'partner', 'michael', 'tyrrel', 'of', 'venrock', 'bill', 'burnham', 'of', 'mobiu', 'and', 'jeff', 'fagnan', 'of', 'seed', 'capit', 'have', 'join', 'datapow', 'board', 'of', 'director', 'datapow', 'will', 'use', 'thi', 'fund', 'to', 'acceler', 'develop', 'market', 'and', 'sale', 'of', 'the', 'compani', 'breakthrough', 'technolog', 'for', 'xmlawar', 'network', 'found', 'in', 'nombr', 'datapow', 'invent', 'the', 'world', 'first', 'intellig', 'xml', 'network', 'devic', 'capabl', 'of', 'transform', 'xml', 'traffic', 'and', 'transact', 'at', 'the', 'wirespe', 'enterpris', 'need', 'to', 'effect', 'embrac', 'web', 'servic', 'and', 'other', 'xmlcentric', 'initi', 'datapow', 'solut', 'are', 'base', 'on', 'it', 'patentpend', 'xml', 'gener', 'three', 'xg', 'technolog', 'enterpris', 'are', 'adopt', 'xml', 'at', 'rapid', 'rate', 'to', 'facilit', 'interand', 'intracompani', 'commun', 'but', 'their', 'network', 'infrastructur', 'is', 'ill', 'prepar', 'to', 'support', 'the', 'requir', 'of', 'thi', 'new', 'traffic', 'type', 'datapow', 'xmlacceler', 'devic', 'enabl', 'the', 'wirespe', 'process', 'of', 'xml', 'that', 'is', 'requir', 'to', 'support', 'next', 'gener', 'enterpris', 'applic', 'said', 'eugen', 'kuznetsov', 'cto', 'and', 'founder', 'of', 'datapow', 'technolog', 'datapow', 'give', 'compani', 'the', 'abil', 'to', 'use', 'xml', 'that', 'critic', 'to', 'web', 'servic', 'project', 'without', 'sacrif', 'an', 'ounc', 'of', 'perform', 'a', 'singl', 'datapow', 'acceler', 'engin', 'deliv', 'the', 'process', 'power', 'of', 'nombr', 'serversbreak', 'the', 'perform', 'bottleneck', 'associ', 'with', 'xml', 'process', 'and', 'deliv', 'an', 'extraordinari', 'return', 'on', 'invest', 'in', 'addit', 'the', 'datapow', 'platform', 'provid', 'enhanc', 'xml', 'secur', 'protect', 'against', 'xmlbase', 'denialofservic', 'attack', 'connect', 'of', 'ebusi', 'protocol', 'for', 'incompat', 'xml', 'data', 'stream', 'load', 'balanc', 'between', 'backend', 'server', 'and', 'realtim', 'statist', 'report', 'in', 'the', 'postbubbl', 'economi', 'technolog', 'invest', 'decis', 'requir', 'laserfocus', 'scrutini', 'datapow', 'patentpend', 'technolog', 'address', 'a', 'veri', 'real', 'and', 'grow', 'pain', 'point', 'for', 'enterpris', 'said', 'michael', 'tyrrel', 'of', 'venrock', 'associ', 'by', 'turbocharg', 'their', 'network', 'with', 'datapow', 'uniqu', 'xmlawar', 'network', 'technolog', 'compani', 'will', 'be', 'free', 'to', 'adopt', 'next', 'gener', 'web', 'servic', 'without', 'encount', 'perform', 'and', 'secur', 'pitfal', 'we', 'look', 'long', 'and', 'hard', 'for', 'a', 'compani', 'capabl', 'of', 'address', 'the', 'rapidli', 'grow', 'problem', 'surround', 'xml', 'messag', 'process', 'perform', 'and', 'secur', 'said', 'bill', 'burnham', 'of', 'mobiu', 'ventur', 'capit', 'datapow', 'is', 'on', 'their', 'third', 'gener', 'of', 'technolog', 'their', 'patent', 'pend', 'xml', 'gener', 'three', 'xg', 'technolog', 'wa', 'quit', 'simpli', 'the', 'singl', 'most', 'compel', 'technolog', 'solut', 'we', 'have', 'seen', 'to', 'date', 'xml', 'is', 'not', 'a', 'nicetohav', 'it', 'is', 'a', 'must', 'have', 'for', 'enterpris', 'seriou', 'about', 'optim', 'applic', 'effici', 'sinc', 'nombr', 'datapow', 'ha', 'been', 'develop', 'solut', 'to', 'facilit', 'enterpris', 'use', 'of', 'xml', 'and', 'web', 'servic', 'said', 'jeff', 'fagnan', 'of', 'seed', 'capit', 'partner', 'datapow', 'xmlacceler', 'devic', 'are', 'a', 'key', 'requir', 'for', 'enterpris', 'that', 'reli', 'on', 'xml', 'for', 'mission', 'critic', 'applic', 'about', 'venrock', 'associ', 'venrock', 'associ', 'wa', 'found', 'as', 'the', 'ventur', 'capit', 'arm', 'of', 'the', 'rockefel', 'famili', 'and', 'continu', 'a', 'tradit', 'of', 'fund', 'entrepreneur', 'that', 'now', 'span', 'over', 'seven', 'decad', 'lauranc', 's', 'rockefel', 'pioneer', 'earli', 'stage', 'ventur', 'financ', 'in', 'the', 's', 'with', 'over', 'nombr', 'invest', 'over', 'a', 'span', 'of', 'more', 'than', 'nombr', 'year', 'the', 'firm', 'ha', 'an', 'establish', 'a', 'track', 'record', 'of', 'identifi', 'and', 'support', 'promis', 'earli', 'stage', 'technolog', 'base', 'enterpris', 'as', 'one', 'of', 'most', 'experienc', 'ventur', 'firm', 'in', 'the', 'unit', 'state', 'venrock', 'maintain', 'a', 'tradit', 'of', 'collabor', 'with', 'talent', 'entrepreneur', 'to', 'establish', 'success', 'endur', 'compani', 'venrock', 'continu', 'goal', 'is', 'to', 'creat', 'longterm', 'valu', 'by', 'assist', 'entrepreneur', 'in', 'build', 'compani', 'from', 'the', 'form', 'stage', 'their', 'consist', 'focu', 'on', 'inform', 'technolog', 'and', 'life', 'sciencesrel', 'opportun', 'provid', 'a', 'reservoir', 'of', 'knowledg', 'and', 'a', 'network', 'of', 'contact', 'that', 'have', 'proven', 'to', 'be', 'a', 'catalyst', 'for', 'the', 'growth', 'of', 'develop', 'organ', 'venrock', 'invest', 'have', 'includ', 'checkpoint', 'softwar', 'usinternetwork', 'calip', 'technolog', 'illumina', 'niku', 'doubleclick', 'media', 'metrix', 'com', 'intel', 'and', 'appl', 'comput', 'with', 'offic', 'in', 'new', 'york', 'citi', 'cambridg', 'ma', 'and', 'menlo', 'park', 'ca', 'venrock', 'is', 'well', 'posit', 'to', 'respond', 'to', 'opportun', 'in', 'ani', 'local', 'for', 'more', 'inform', 'on', 'venrock', 'associ', 'pleas', 'visit', 'httpaddr', 'about', 'mobiu', 'ventur', 'capit', 'mobiu', 'ventur', 'capit', 'formerli', 'softbank', 'ventur', 'capit', 'is', 'a', 'nombrenombr', 'billion', 'usbas', 'privat', 'equiti', 'ventur', 'capit', 'firm', 'manag', 'by', 'an', 'unparallel', 'team', 'of', 'former', 'ceo', 'and', 'entrepreneur', 'technolog', 'pioneer', 'senior', 'execut', 'from', 'major', 'technolog', 'corpor', 'and', 'leader', 'from', 'the', 'invest', 'bank', 'commun', 'mobiu', 'ventur', 'capit', 'special', 'primarili', 'in', 'earlystag', 'invest', 'in', 'the', 'area', 'of', 'commun', 'system', 'softwar', 'and', 'servic', 'infrastructur', 'softwar', 'and', 'servic', 'profession', 'servic', 'enterpris', 'applic', 'healthcar', 'informat', 'consum', 'and', 'small', 'busi', 'applic', 'compon', 'and', 'emerg', 'technolog', 'mobiu', 'ventur', 'capit', 'combin', 'it', 'technolog', 'expertis', 'and', 'broad', 'financi', 'asset', 'with', 'the', 'industri', 'best', 'entrepreneur', 'to', 'creat', 'a', 'powerhous', 'portfolio', 'of', 'over', 'nombr', 'of', 'the', 'world', 'lead', 'high', 'technolog', 'compani', 'mobiu', 'ventur', 'capit', 'can', 'be', 'contact', 'by', 'visit', 'their', 'web', 'site', 'httpaddr', 'about', 'seed', 'capit', 'partner', 'seed', 'capit', 'partner', 'is', 'an', 'earlystag', 'ventur', 'fund', 'affili', 'with', 'softbank', 'corpor', 'one', 'of', 'the', 'world', 'lead', 'internet', 'market', 'forc', 'seed', 'capit', 'manag', 'fund', 'focus', 'primarili', 'on', 'compani', 'address', 'interneten', 'businesstobusi', 'digit', 'inform', 'technolog', 'opportun', 'which', 'are', 'locat', 'in', 'the', 'northeastern', 'us', 'the', 'southeastern', 'region', 'of', 'the', 'provinc', 'of', 'ontario', 'canada', 'and', 'israel', 'seed', 'capit', 'portfolio', 'includ', 'spearhead', 'technolog', 'concentr', 'vision', 'and', 'companydna', 'for', 'more', 'inform', 'on', 'seed', 'capit', 'partner', 'pleas', 'visit', 'httpaddr', 'about', 'datapow', 'technolog', 'datapow', 'technolog', 'provid', 'enterpris', 'with', 'intellig', 'xmlawar', 'network', 'infrastructur', 'to', 'ensur', 'unparallel', 'perform', 'secur', 'and', 'manag', 'of', 'nextgener', 'protocol', 'datapow', 'patentpend', 'xml', 'gener', 'three', 'xg', 'technolog', 'power', 'the', 'industri', 'first', 'wirespe', 'xml', 'network', 'devic', 'enabl', 'secur', 'highspe', 'applic', 'and', 'xml', 'web', 'servic', 'found', 'in', 'nombr', 'datapow', 'is', 'now', 'deliv', 'it', 'third', 'gener', 'of', 'technolog', 'provid', 'immedi', 'return', 'on', 'technolog', 'invest', 'to', 'industrylead', 'custom', 'and', 'partner', 'datapow', 'is', 'privat', 'held', 'and', 'base', 'in', 'cambridg', 'ma', 'investor', 'includ', 'mobiu', 'ventur', 'capit', 'seed', 'capit', 'partner', 'and', 'venrock', 'associ', 'contact', 'datapow', 'technolog', 'inc', 'kieran', 'taylor', 'nombrenombrenombr', 'emailaddr', 'schwartz', 'commun', 'john', 'moranheath', 'chichakli', 'nombrenombrenombr', 'emailaddr', 'steve', 'kelli', 'chairman', 'and', 'ceo', 'dure', 'over', 'twenti', 'year', 'in', 'the', 'technolog', 'industri', 'steve', 'kelli', 'ha', 'built', 'and', 'manag', 'global', 'enterpris', 'network', 'provid', 'consult', 'servic', 'to', 'fortun', 'nombr', 'busi', 'and', 'been', 'involv', 'in', 'the', 'launch', 'of', 'sever', 'startup', 'prior', 'to', 'datapow', 'kelli', 'wa', 'an', 'entrepreneurinresid', 'at', 'venrock', 'associ', 'and', 'wa', 'cofound', 'of', 'castl', 'network', 'where', 'he', 'led', 'the', 'compani', 'sale', 'servic', 'and', 'market', 'function', 'castl', 'wa', 'acquir', 'by', 'siemen', 'ag', 'in', 'nombr', 'to', 'creat', 'unispher', 'network', 'which', 'wa', 'subsequ', 'purchas', 'by', 'junip', 'network', 'kelli', 'wa', 'an', 'earli', 'contributor', 'at', 'cascad', 'commun', 'where', 'he', 'built', 'and', 'manag', 'the', 'compani', 'core', 'switch', 'busi', 'cascad', 'annual', 'revenu', 'grew', 'from', 'nombr', 'million', 'to', 'nombr', 'million', 'annual', 'dure', 'kelli', 'tenur', 'kelli', 'also', 'work', 'at', 'digit', 'equip', 'corpor', 'where', 'he', 'manag', 'and', 'grew', 'their', 'corpor', 'network', 'to', 'nombrenombr', 'node', 'in', 'nombr', 'countri', 'the', 'largest', 'in', 'the', 'world', 'at', 'the', 'time', 'kelli', 'ha', 'a', 'bs', 'in', 'inform', 'system', 'from', 'bentley', 'colleg', 'eugen', 'kuznetsov', 'founder', 'presid', 'and', 'cto', 'eugen', 'kuznetsov', 'is', 'a', 'technolog', 'visionari', 'that', 'ha', 'been', 'work', 'to', 'address', 'enterpris', 'xml', 'issu', 'sinc', 'the', 'late', 's', 'kuznetsov', 'found', 'datapow', 'technolog', 'inc', 'in', 'nombr', 'to', 'provid', 'enterpris', 'with', 'an', 'intellig', 'xmlawar', 'network', 'infrastructur', 'to', 'support', 'nextgener', 'applic', 'prior', 'to', 'start', 'datapow', 'kuznetsov', 'led', 'the', 'java', 'jit', 'compil', 'effort', 'for', 'microsoft', 'internet', 'explor', 'for', 'macintosh', 'nombrenombr', 'he', 'wa', 'also', 'part', 'of', 'the', 'team', 'which', 'develop', 'one', 'of', 'the', 'first', 'clean', 'room', 'java', 'vm', 'thi', 'highspe', 'runtim', 'technolog', 'wa', 'licens', 'by', 'some', 'of', 'the', 'industri', 'largest', 'technolog', 'compani', 'includ', 'appl', 'comput', 'he', 'ha', 'consult', 'to', 'numer', 'compani', 'and', 'work', 'on', 'a', 'varieti', 'of', 'hardwar', 'and', 'softwar', 'engin', 'problem', 'in', 'the', 'area', 'of', 'memori', 'manag', 'power', 'electron', 'optim', 'execut', 'engin', 'and', 'applic', 'integr', 'kuznetsov', 'hold', 'a', 'bs', 'in', 'electr', 'engin', 'from', 'mit', 'steve', 'willi', 'vice', 'presid', 'of', 'advanc', 'technolog', 'steve', 'willi', 'is', 'an', 'accomplish', 'entrepreneur', 'and', 'a', 'pioneer', 'in', 'protocol', 'optim', 'prior', 'to', 'join', 'datapow', 'willi', 'wa', 'cofound', 'and', 'cto', 'of', 'argon', 'network', 'a', 'provid', 'of', 'highperform', 'switch', 'router', 'that', 'wa', 'acquir', 'by', 'siemen', 'ag', 'in', 'nombr', 'to', 'creat', 'unispher', 'network', 'unispher', 'wa', 'subsequ', 'purchas', 'by', 'junip', 'network', 'befor', 'argon', 'steve', 'wa', 'vice', 'presid', 'of', 'advanc', 'technolog', 'at', 'bay', 'network', 'now', 'nortel', 'network', 'where', 'he', 'led', 'both', 'ip', 'and', 'atmrel', 'technolog', 'develop', 'and', 'manag', 'a', 'group', 'that', 'gener', 'nombr', 'patent', 'applic', 'develop', 'a', 'nombr', 'mbp', 'forward', 'engin', 'and', 'led', 'the', 'specif', 'of', 'the', 'atm', 'forum', 'pnni', 'rout', 'protocol', 'most', 'notabl', 'steve', 'wa', 'cofound', 'origin', 'softwar', 'director', 'and', 'architect', 'for', 'wellfleet', 'commun', 'a', 'lead', 'pioneer', 'of', 'multiprotocol', 'router', 'wellfleet', 'wa', 'rate', 'as', 'the', 'fastest', 'grow', 'compani', 'in', 'the', 'us', 'for', 'two', 'consecut', 'year', 'by', 'fortun', 'magazin', 'willi', 'is', 'current', 'a', 'member', 'of', 'the', 'institut', 'of', 'electr', 'and', 'electron', 'engin', 'ieee', 'and', 'the', 'internet', 'research', 'task', 'forc', 'irtf', 'rout', 'research', 'group', 'willi', 'ha', 'a', 'bdic', 'in', 'comput', 'scienc', 'from', 'the', 'univers', 'of', 'massachusett', 'bill', 'tao', 'vice', 'presid', 'of', 'engin', 'with', 'a', 'vast', 'understand', 'of', 'network', 'optim', 'technolog', 'and', 'extens', 'experi', 'in', 'lan', 'and', 'wan', 'network', 'bill', 'tao', 'bring', 'over', 'nombr', 'year', 'of', 'critic', 'knowledg', 'to', 'lead', 'datapow', 'engin', 'effort', 'prior', 'to', 'datapow', 'tao', 'wa', 'the', 'vice', 'presid', 'of', 'engin', 'for', 'sycamor', 'network', 'develop', 'a', 'famili', 'of', 'metroregion', 'optic', 'network', 'switch', 'he', 'is', 'also', 'well', 'acquaint', 'with', 'network', 'optim', 'techniqu', 'as', 'he', 'wa', 'previous', 'vice', 'presid', 'of', 'engin', 'at', 'infolibria', 'where', 'he', 'led', 'develop', 'and', 'softwar', 'qualiti', 'assur', 'engin', 'for', 'a', 'famili', 'of', 'network', 'cach', 'product', 'tao', 'ha', 'held', 'senior', 'engin', 'posit', 'at', 'netedg', 'proteon', 'codex', 'and', 'wang', 'tao', 'receiv', 'a', 'bs', 'in', 'electr', 'engin', 'from', 'the', 'univers', 'of', 'connecticut', 'and', 'an', 'ms', 'in', 'comput', 'scienc', 'from', 'the', 'univers', 'of', 'illinoi', 'kieran', 'taylor', 'director', 'of', 'product', 'market', 'kieran', 'taylor', 'ha', 'an', 'accomplish', 'record', 'as', 'a', 'market', 'profession', 'industri', 'analyst', 'and', 'journalist', 'prior', 'to', 'join', 'datapow', 'taylor', 'wa', 'the', 'director', 'of', 'product', 'manag', 'and', 'market', 'for', 'akamai', 'technolog', 'nasdaq', 'akam', 'as', 'an', 'earli', 'contributor', 'at', 'akamai', 'he', 'help', 'develop', 'the', 'compani', 'initi', 'posit', 'and', 'led', 'the', 'technic', 'develop', 'and', 'gotomarket', 'activ', 'for', 'akamai', 'flagship', 'edgesuit', 'servic', 'taylor', 'earli', 'contribut', 'help', 'posit', 'the', 'servic', 'provid', 'to', 'secur', 'a', 'nombrenombr', 'billion', 'ipo', 'he', 'ha', 'also', 'held', 'senior', 'market', 'manag', 'posit', 'at', 'nortel', 'network', 'inc', 'and', 'bay', 'network', 'taylor', 'wa', 'previous', 'an', 'analyst', 'at', 'telechoic', 'inc', 'and', 'the', 'wide', 'area', 'network', 'editor', 'for', 'data', 'commun', 'a', 'mcgraw', 'hill', 'public', 'taylor', 'hold', 'a', 'ba', 'in', 'print', 'journal', 'from', 'the', 'pennsylvania', 'state', 'univers', 'school', 'of', 'commun', 'board', 'of', 'advisor', 'mark', 'hoover', 'mark', 'hoover', 'is', 'presid', 'and', 'cofound', 'of', 'acuit', 'inc', 'a', 'startup', 'acceler', 'with', 'over', 'nombr', 'year', 'experi', 'in', 'the', 'network', 'industri', 'hoover', 'expertis', 'span', 'product', 'develop', 'market', 'and', 'busi', 'develop', 'befor', 'launch', 'acuit', 'hoover', 'work', 'at', 'att', 'bell', 'laboratori', 'att', 'comput', 'system', 'synopt', 'and', 'bay', 'network', 'where', 'he', 'play', 'a', 'role', 'in', 'the', 'develop', 'of', 'key', 'technolog', 'such', 'as', 'nombrebaset', 'rout', 'fddi', 'atm', 'ethernet', 'switch', 'firewal', 'internet', 'traffic', 'manag', 'and', 'edg', 'wan', 'switch', 'industri', 'georg', 'kassabgi', 'current', 'vice', 'presid', 'of', 'engin', 'at', 'bea', 'system', 'mr', 'kassabgi', 'ha', 'held', 'executivelevel', 'posit', 'in', 'engin', 'sale', 'and', 'market', 'and', 'ha', 'spearhead', 'leadingedg', 'develop', 'in', 'the', 'applic', 'server', 'marketplac', 'sinc', 'nombr', 'he', 'is', 'wide', 'known', 'for', 'hi', 'regular', 'speak', 'engag', 'at', 'javaon', 'as', 'well', 'as', 'column', 'and', 'contribut', 'in', 'javapro', 'java', 'develop', 'journal', 'and', 'other', 'public', 'in', 'addit', 'to', 'be', 'a', 'vener', 'java', 'expert', 'georg', 'kassabgi', 'hold', 'a', 'patent', 'on', 'smartobject', 'technolog', 'and', 'author', 'the', 'technic', 'book', 'progress', 'v', 'marshal', 't', 'rose', 'marshal', 't', 'rose', 'run', 'hi', 'own', 'firm', 'dover', 'beach', 'consult', 'inc', 'he', 'formerli', 'held', 'the', 'posit', 'of', 'the', 'internet', 'engin', 'task', 'forc', 'ietf', 'area', 'director', 'for', 'network', 'manag', 'one', 'of', 'a', 'dozen', 'individu', 'who', 'oversaw', 'the', 'internet', 'standard', 'process', 'rose', 'is', 'the', 'author', 'of', 'sever', 'profession', 'text', 'on', 'subject', 'such', 'as', 'internet', 'manag', 'electron', 'mail', 'and', 'directori', 'servic', 'which', 'have', 'been', 'publish', 'in', 'four', 'languag', 'he', 'is', 'well', 'known', 'for', 'hi', 'implement', 'of', 'core', 'internet', 'technolog', 'such', 'as', 'pop', 'smtp', 'and', 'snmp', 'and', 'osi', 'technolog', 'such', 'as', 'xnombr', 'and', 'ftam', 'rose', 'receiv', 'a', 'phd', 'in', 'inform', 'and', 'comput', 'scienc', 'from', 'the', 'univers', 'of', 'california', 'irvin', 'in', 'nombr'])\n",
      " ...\n",
      " list(['url', 'httpaddr', 'date', 'nombrenombretnombrenombrenombrenombr', 'media', 'the', 'race', 'is', 'on', 'for', 'the', 'most', 'covet', 'job', 'in', 'bbc', 'news', 'after', 'rod', 'liddl', 'say', 'he', 'is', 'step', 'down', 'as', 'editor', 'of', 'the', 'today', 'programm'])\n",
      " list(['url', 'httpaddr', 'date', 'nombrenombretnombrenombrenombrenombr', 'clickondetroit'])\n",
      " list(['polit', 'mail', 'the', 'snail', 'kind', 'doesnt', 'bother', 'me', 'i', 'like', 'it', 'a', 'lot', 'of', 'the', 'time', 'becaus', 'as', 'crap', 'as', 'it', 'is', 'at', 'least', 'it', 'not', 'the', 'kind', 'of', 'info', 'you', 'get', 'on', 'tv', 'particularli', 'for', 'small', 'time', 'local', 'polit', 'it', 'the', 'best', 'way', 'to', 'get', 'inform', 'but', 'what', 'matter', 'is', 'that', 'mail', 'is', 'speech', 'and', 'polit', 'email', 'ha', 'to', 'be', 'as', 'well', 'protect', 'as', 'ani', 'other', 'polit', 'speech', 'spam', 'is', 'the', 'tool', 'for', 'dissid', 'news', 'sinc', 'the', 'face', 'that', 'it', 'unsolicit', 'mean', 'that', 'recipi', 'cant', 'be', 'blame', 'for', 'be', 'on', 'a', 'mail', 'list', 'httpaddr'])]\n"
     ]
    }
   ],
   "source": [
    "emails = shuffled_concat['Email']\n",
    "emails = emails.to_numpy()\n",
    "print(emails)\n"
   ]
  },
  {
   "attachments": {},
   "cell_type": "markdown",
   "id": "c6099546",
   "metadata": {},
   "source": [
    "# Extraction de caractéristiques"
   ]
  },
  {
   "attachments": {},
   "cell_type": "markdown",
   "id": "81504f54",
   "metadata": {},
   "source": [
    "On commence par une fonction qui prend en entrée la liste d'emails et le vocabulaire, et retourne une matrice binaire des vecteurs de caractéristiques pour chaque email. \n",
    "Pour chaque email, la fonction itère sur le vocabulaire et, si le mot est présent dans l'email, la valeur correspondante dans le vecteur de caractéristiques est définie à 1, sinon elle est définie à 0.\n",
    "\n",
    "La fonction est ensuite appelée et la matrice de caractéristiques est écrite dans un fichier CSV binary_vectors.csv. \n"
   ]
  },
  {
   "cell_type": "code",
   "execution_count": 121,
   "id": "8f86123d",
   "metadata": {},
   "outputs": [],
   "source": [
    "def emails_to_binary_features(emails, vocab):\n",
    "    # Create a 2D array of binary feature vectors for each email\n",
    "    feature_vectors = np.zeros((len(emails), len(vocab)))\n",
    "    for i, email in enumerate(emails):\n",
    "        for j, word in enumerate(vocab):\n",
    "            if word in email:\n",
    "                feature_vectors[i, j] = 1\n",
    "\n",
    "    return feature_vectors\n"
   ]
  },
  {
   "attachments": {},
   "cell_type": "markdown",
   "id": "4ae2c476",
   "metadata": {},
   "source": [
    "La forme de la matrice de caractéristiques doit etre ( nombre des emails , taille du vocabulaire )."
   ]
  },
  {
   "cell_type": "code",
   "execution_count": 122,
   "id": "400e0d69",
   "metadata": {},
   "outputs": [
    {
     "name": "stdout",
     "output_type": "stream",
     "text": [
      "(4161, 10548)\n"
     ]
    }
   ],
   "source": [
    "with open(os.path.join('C:/Users/DELL/OneDrive/Bureau/AARN/AARN', 'vocab.txt'), 'r') as file:\n",
    "    text = file.readlines()\n",
    "voc =np.array(text)\n",
    "voc = np.char.rstrip(voc, '\\n')\n",
    "\n",
    "Fv = emails_to_binary_features(emails, voc)\n",
    "\n",
    "with open('C:/Users/DELL/OneDrive/Bureau/AARN/AARN/binary_vectors.csv', 'w', newline='') as csvfile:\n",
    "    writer = csv.writer(csvfile)\n",
    "    for row in Fv:\n",
    "        writer.writerow(row)\n",
    "        \n",
    "print(Fv.shape) \n"
   ]
  },
  {
   "attachments": {},
   "cell_type": "markdown",
   "id": "ea86ef1b",
   "metadata": {},
   "source": [
    "# Classification"
   ]
  },
  {
   "attachments": {},
   "cell_type": "markdown",
   "id": "0daabe40",
   "metadata": {},
   "source": [
    "préparer les données pour l'apprentissage automatique:\n",
    "\n",
    "La première étape consiste à créer le vecteur d'étiquettes (y), qui est extrait de la colonne \"Label\" du DataFrame shuffled_concat.\n",
    "\n",
    "Ensuite, les données de caractéristiques sont mises à l'échelle à l'aide de la classe StandardScaler de scikit-learn.\n",
    "\n",
    "Après cela, les données mises à l'échelle sont divisées en ensembles de données d'apprentissage et de test à l'aide de la fonction train_test_split de scikit-learn. \n",
    "Les données d'apprentissage (X_train, y_train) contiennent 80 % des données initiales et les données de test (X_test, y_test) contiennent les 20 % restants."
   ]
  },
  {
   "cell_type": "code",
   "execution_count": 123,
   "id": "284fe856",
   "metadata": {},
   "outputs": [
    {
     "name": "stdout",
     "output_type": "stream",
     "text": [
      "(3328, 10548)\n",
      "(833, 10548)\n"
     ]
    }
   ],
   "source": [
    "\n",
    "y = shuffled_concat['Label'].to_numpy()\n",
    "\n",
    "data = np.genfromtxt('C:/Users/DELL/OneDrive/Bureau/AARN/AARN/binary_vectors.csv', delimiter=',')\n",
    "\n",
    "scaler = StandardScaler()\n",
    "data_scaled = scaler.fit_transform(data)\n",
    "\n",
    "X_train, X_test, y_train, y_test = train_test_split(\n",
    "    data_scaled, y, test_size=0.2, random_state=42)\n",
    "\n",
    "print(X_train.shape)\n",
    "print(X_test.shape)\n"
   ]
  },
  {
   "cell_type": "code",
   "execution_count": 160,
   "id": "8a7757e0",
   "metadata": {},
   "outputs": [],
   "source": [
    "import time\n",
    "accuracies = []\n",
    "Time = []"
   ]
  },
  {
   "attachments": {},
   "cell_type": "markdown",
   "id": "0986772b",
   "metadata": {},
   "source": [
    "# Methode 1 : K- Plus Proches Voisins"
   ]
  },
  {
   "cell_type": "code",
   "execution_count": 161,
   "id": "466741a2",
   "metadata": {},
   "outputs": [
    {
     "name": "stdout",
     "output_type": "stream",
     "text": [
      "KNN Accuracy: 0.7623049219687875\n"
     ]
    }
   ],
   "source": [
    "start_time = time.time()\n",
    "\n",
    "# creer un classifieur KNN avec k=3\n",
    "knn = KNeighborsClassifier(n_neighbors=3)\n",
    "\n",
    "# Fit le classifieur avec training data x-train et y-train\n",
    "knn.fit(X_train, y_train)\n",
    "\n",
    "# faire la prediction sur test data\n",
    "y_pred = knn.predict(X_test)\n",
    "\n",
    "# calculer la precision du modele c-a-d y_pred par rapport a y_test\n",
    "accuracy = accuracy_score(y_test, y_pred)\n",
    "end_time = time.time()\n",
    "accuracies.append(accuracy)\n",
    "Time.append(end_time - start_time)\n",
    "\n",
    "print(\"KNN Accuracy:\", accuracy)\n"
   ]
  },
  {
   "attachments": {},
   "cell_type": "markdown",
   "id": "c76cee3a",
   "metadata": {},
   "source": [
    "# Methode 2 : MVS\n",
    "Machine à Vecteurs de Support"
   ]
  },
  {
   "cell_type": "code",
   "execution_count": 162,
   "id": "8f588b10",
   "metadata": {},
   "outputs": [
    {
     "name": "stdout",
     "output_type": "stream",
     "text": [
      "SVM Accuracy: 0.9747899159663865\n"
     ]
    }
   ],
   "source": [
    "start_time = time.time()\n",
    "# On commence par entrainer le model SVM\n",
    "svm = SVC(kernel='linear', random_state=42)\n",
    "svm.fit(X_train, y_train)\n",
    "\n",
    "# faire la prediction sur test data\n",
    "y_pred = svm.predict(X_test)\n",
    "\n",
    "# Evaluer la precision\n",
    "accuracy = accuracy_score(y_test, y_pred)\n",
    "end_time = time.time()\n",
    "accuracies.append(accuracy)\n",
    "Time.append(end_time - start_time)\n",
    "\n",
    "print(\"SVM Accuracy:\", accuracy)\n"
   ]
  },
  {
   "attachments": {},
   "cell_type": "markdown",
   "id": "48874ae0",
   "metadata": {},
   "source": [
    "# Methode 3 : Arbres de décision"
   ]
  },
  {
   "cell_type": "code",
   "execution_count": 163,
   "id": "46e07b7a",
   "metadata": {},
   "outputs": [
    {
     "name": "stdout",
     "output_type": "stream",
     "text": [
      "Decision Tree Accuracy: 0.9315726290516206\n"
     ]
    }
   ],
   "source": [
    "start_time = time.time()\n",
    "# creer le classifieur d'arbre de decision\n",
    "dt = DecisionTreeClassifier()\n",
    "\n",
    "# entrainer le modele\n",
    "dt.fit(X_train, y_train)\n",
    "\n",
    "# Faire la prediction\n",
    "y_pred = dt.predict(X_test)\n",
    "y_pred\n",
    "\n",
    "# Evaluer la precision de la prediction\n",
    "accuracy = accuracy_score(y_test, y_pred)\n",
    "end_time = time.time()\n",
    "accuracies.append(accuracy)\n",
    "Time.append(end_time - start_time)\n",
    "\n",
    "print(\"Decision Tree Accuracy:\", accuracy)\n"
   ]
  },
  {
   "attachments": {},
   "cell_type": "markdown",
   "id": "907c72ee",
   "metadata": {},
   "source": [
    "# Methode 4 : Régression logistique"
   ]
  },
  {
   "cell_type": "code",
   "execution_count": 164,
   "id": "342628c5",
   "metadata": {},
   "outputs": [
    {
     "name": "stdout",
     "output_type": "stream",
     "text": [
      "Logistic Regression Accuracy: 0.9843937575030012\n"
     ]
    },
    {
     "name": "stderr",
     "output_type": "stream",
     "text": [
      "C:\\Users\\DELL\\AppData\\Local\\Packages\\PythonSoftwareFoundation.Python.3.9_qbz5n2kfra8p0\\LocalCache\\local-packages\\Python39\\site-packages\\sklearn\\linear_model\\_logistic.py:458: ConvergenceWarning: lbfgs failed to converge (status=1):\n",
      "STOP: TOTAL NO. of ITERATIONS REACHED LIMIT.\n",
      "\n",
      "Increase the number of iterations (max_iter) or scale the data as shown in:\n",
      "    https://scikit-learn.org/stable/modules/preprocessing.html\n",
      "Please also refer to the documentation for alternative solver options:\n",
      "    https://scikit-learn.org/stable/modules/linear_model.html#logistic-regression\n",
      "  n_iter_i = _check_optimize_result(\n"
     ]
    }
   ],
   "source": [
    "start_time = time.time()\n",
    "# creer l'objet de logistic regression \n",
    "logreg = LogisticRegression()\n",
    "logreg.fit(X_train, y_train)\n",
    "\n",
    "# Predire les labels\n",
    "y_pred = logreg.predict(X_test)\n",
    "\n",
    "# Evaluer la performance du model\n",
    "accuracy = logreg.score(X_test, y_test)\n",
    "end_time = time.time()\n",
    "accuracies.append(accuracy)\n",
    "Time.append(end_time - start_time)\n",
    "\n",
    "print(\"Logistic Regression Accuracy:\", accuracy)\n"
   ]
  },
  {
   "attachments": {},
   "cell_type": "markdown",
   "id": "7662da92",
   "metadata": {},
   "source": [
    "# Methode 5 : Réseaux de neurones"
   ]
  },
  {
   "cell_type": "code",
   "execution_count": 165,
   "id": "306cc607",
   "metadata": {},
   "outputs": [
    {
     "name": "stdout",
     "output_type": "stream",
     "text": [
      "27/27 [==============================] - 0s 3ms/step - loss: 0.9660 - accuracy: 0.9640\n",
      "Neural Network accuracy: 0.9639856219291687\n"
     ]
    }
   ],
   "source": [
    "start_time = time.time()\n",
    "# Creer le modele et les Layers\n",
    "model = Sequential()\n",
    "model.add(Dense(16, input_dim=X_train.shape[1], activation='relu'))\n",
    "model.add(Dense(1, activation='sigmoid'))\n",
    "\n",
    "# Compiler le modele\n",
    "model.compile(loss='binary_crossentropy',\n",
    "        optimizer='adam', metrics=['accuracy'])\n",
    "\n",
    "# entrainer le modele 50 fois\n",
    "model.fit(X_train, y_train, epochs=50, batch_size=32, verbose=0,\n",
    "        validation_data=(X_test, y_test))\n",
    "\n",
    "# Evaluer le modele\n",
    "loss, accuracy = model.evaluate(X_test, y_test)\n",
    "end_time = time.time()\n",
    "accuracies.append(accuracy)\n",
    "Time.append(end_time - start_time)\n",
    "\n",
    "print(\"Neural Network accuracy:\" ,accuracy)\n"
   ]
  },
  {
   "cell_type": "code",
   "execution_count": 166,
   "id": "09a96dde",
   "metadata": {},
   "outputs": [
    {
     "name": "stdout",
     "output_type": "stream",
     "text": [
      "[0.7623049219687875, 0.9747899159663865, 0.9315726290516206, 0.9843937575030012, 0.9639856219291687]\n",
      "['KNN', 'MVS', 'DecTree', 'LogReg', 'RN']\n"
     ]
    },
    {
     "data": {
      "image/png": "[encoded data removed]",
      "text/plain": [
       "<Figure size 640x480 with 1 Axes>"
      ]
     },
     "metadata": {},
     "output_type": "display_data"
    }
   ],
   "source": [
    "import matplotlib.pyplot as plt\n",
    "\n",
    "methods = ['KNN', 'MVS', 'DecTree', 'LogReg', 'RN']\n",
    "print(accuracies)\n",
    "print(methods)\n",
    "\n",
    "plt.bar(methods, accuracies, width = 0.5)\n",
    "\n",
    "plt.title('Accuracy comparison')\n",
    "plt.xlabel('Classification method')\n",
    "plt.ylabel('Accuracy')\n",
    "\n",
    "plt.show()\n"
   ]
  },
  {
   "cell_type": "code",
   "execution_count": 168,
   "id": "7229e5be",
   "metadata": {},
   "outputs": [
    {
     "name": "stdout",
     "output_type": "stream",
     "text": [
      "[2.039361000061035, 120.99692296981812, 11.422174215316772, 6.522223234176636, 29.903958559036255]\n",
      "['KNN', 'MVS', 'DecTree', 'LogReg', 'RN']\n"
     ]
    },
    {
     "data": {
      "image/png": "[encoded data removed]",
      "text/plain": [
       "<Figure size 640x480 with 1 Axes>"
      ]
     },
     "metadata": {},
     "output_type": "display_data"
    }
   ],
   "source": [
    "import matplotlib.pyplot as plt\n",
    "\n",
    "methods = ['KNN', 'MVS', 'DecTree', 'LogReg', 'RN']\n",
    "print(Time)\n",
    "print(methods)\n",
    "\n",
    "plt.bar(methods, Time, width=0.5)\n",
    "\n",
    "plt.title('Time comparison')\n",
    "plt.xlabel('Classification method')\n",
    "plt.ylabel('Time')\n",
    "\n",
    "plt.show()\n"
   ]
  }
 ],
 "metadata": {
  "kernelspec": {
   "display_name": "Python 3 (ipykernel)",
   "language": "python",
   "name": "python3"
  },
  "language_info": {
   "codemirror_mode": {
    "name": "ipython",
    "version": 3
   },
   "file_extension": ".py",
   "mimetype": "text/x-python",
   "name": "python",
   "nbconvert_exporter": "python",
   "pygments_lexer": "ipython3",
   "version": "3.9.13"
  }
 },
 "nbformat": 4,
 "nbformat_minor": 5
}
